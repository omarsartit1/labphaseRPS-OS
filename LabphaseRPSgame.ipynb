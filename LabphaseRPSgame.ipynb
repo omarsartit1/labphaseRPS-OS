{
 "cells": [
  {
   "cell_type": "code",
   "execution_count": 28,
   "id": "1ae17db6-7c31-4cc3-a87f-4249a0399ab2",
   "metadata": {},
   "outputs": [],
   "source": [
    "import tkinter as tk \n",
    "import random\n",
    "\n",
    "#prompt choices\n",
    "def play_game():\n",
    "    choices = [\"rock\", \"paper\", \"scissors\"]\n",
    "    index = random.randint(0,2)\n",
    "    computer_choice = choices[index]\n",
    "    \n",
    "    user_choice=user_entry.get().lower()\n",
    "\n",
    "    if user_choice not in choices : \n",
    "        return \"Invalid choice\"\n",
    "    elif user_choice == computer_choice :\n",
    "        return \"It'a a tie !\" \n",
    "    elif (user_choice == \"rock\" and computer_choice == \"scissors\") or \\\n",
    "         (user_choice == \"scissors\" and computer_choice == \"paper\") or \\\n",
    "         (user_choice == \"paper\" and computer_choice == \"rock\"):\n",
    "        return \"You win !\"\n",
    "    else :\n",
    "        return \"You lost !\" \n",
    "\n",
    "\n",
    "window = tk.Tk()\n",
    "window.title(\"Rock Paper Scissor\")\n",
    "window.configure(background='#0000ff')  # Blue background\n",
    "label=tk.Label(text=\"ROCK PAPER SCISSOR\",foreground=\"white\", background=\"blue\",font=(\"Helvetica\", 24, \"bold\")).pack()\n",
    "user_entry=tk.Entry(master=window, width=20)\n",
    "user_entry.pack() #entry user\n",
    "window.resizable(width=1000,height=1000)\n",
    "window.mainloop()"
   ]
  },
  {
   "cell_type": "code",
   "execution_count": null,
   "id": "3451d0c6-1fbc-4238-a7f6-77467cc3fa70",
   "metadata": {},
   "outputs": [],
   "source": []
  },
  {
   "cell_type": "code",
   "execution_count": null,
   "id": "9b3ba7d0-661d-4211-9abf-b52ec34e972d",
   "metadata": {},
   "outputs": [],
   "source": []
  }
 ],
 "metadata": {
  "kernelspec": {
   "display_name": "Python 3 (ipykernel)",
   "language": "python",
   "name": "python3"
  },
  "language_info": {
   "codemirror_mode": {
    "name": "ipython",
    "version": 3
   },
   "file_extension": ".py",
   "mimetype": "text/x-python",
   "name": "python",
   "nbconvert_exporter": "python",
   "pygments_lexer": "ipython3",
   "version": "3.11.7"
  }
 },
 "nbformat": 4,
 "nbformat_minor": 5
}
